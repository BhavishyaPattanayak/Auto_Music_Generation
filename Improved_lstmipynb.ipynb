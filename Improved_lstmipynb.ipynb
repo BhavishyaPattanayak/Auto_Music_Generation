{
  "nbformat": 4,
  "nbformat_minor": 0,
  "metadata": {
    "colab": {
      "provenance": []
    },
    "kernelspec": {
      "name": "python3",
      "display_name": "Python 3"
    },
    "language_info": {
      "name": "python"
    }
  },
  "cells": [
    {
      "cell_type": "code",
      "execution_count": null,
      "metadata": {
        "id": "UuSE-99zcjaJ"
      },
      "outputs": [],
      "source": [
        "def lstm():\n",
        "    model = Sequential()\n",
        "    model.add(LSTM(128, return_sequences=True, input_shape=(sequence_length, n_features),\n",
        "                   recurrent_dropout=0.2, dropout=0.2, kernel_initializer='he_uniform'))\n",
        "    model.add(LSTM(128, return_sequences=False, recurrent_dropout=0.2, dropout=0.2, kernel_initializer='he_uniform'))\n",
        "    model.add(Dense(256, activation='relu', kernel_initializer='he_uniform'))\n",
        "    model.add(Dropout(0.3))\n",
        "    model.add(Dense(n_vocab, activation='softmax'))\n",
        "    model.compile(loss='sparse_categorical_crossentropy', optimizer='adam', metrics=['accuracy'])\n",
        "    return model"
      ]
    },
    {
      "cell_type": "code",
      "source": [
        "from keras.layers import *\n",
        "from keras.models import *\n",
        "from keras.callbacks import *\n",
        "import keras.backend as K\n",
        "\n",
        "K.clear_session()\n",
        "model = Sequential()\n",
        "model.add(Embedding(input_dim=len(unique_x), output_dim=128, input_length=32, trainable=True))\n",
        "\n",
        "model.add(Conv1D(128, kernel_size=3, padding='causal', activation='relu'))\n",
        "model.add(Dropout(0.3))\n",
        "model.add(MaxPool1D(pool_size=2))\n",
        "\n",
        "model.add(Conv1D(256, kernel_size=3, dilation_rate=2, padding='causal', activation='relu'))\n",
        "model.add(Dropout(0.3))\n",
        "model.add(MaxPool1D(pool_size=2))\n",
        "\n",
        "model.add(Conv1D(512, kernel_size=3, dilation_rate=4, padding='causal', activation='relu'))\n",
        "model.add(Dropout(0.3))\n",
        "model.add(MaxPool1D(pool_size=2))\n",
        "\n",
        "model.add(GlobalMaxPool1D())\n",
        "\n",
        "model.add(Dense(256, activation='relu'))\n",
        "model.add(Dropout(0.4))\n",
        "model.add(Dense(len(unique_y), activation='softmax'))\n",
        "\n",
        "model.compile(loss='sparse_categorical_crossentropy', optimizer='adam', metrics=['accuracy'])\n",
        "\n",
        "model.summary()\n"
      ],
      "metadata": {
        "id": "tbAM7kjgclig"
      },
      "execution_count": null,
      "outputs": []
    }
  ]
}